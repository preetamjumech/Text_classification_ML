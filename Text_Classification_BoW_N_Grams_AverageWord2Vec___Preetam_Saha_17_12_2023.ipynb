{
  "nbformat": 4,
  "nbformat_minor": 0,
  "metadata": {
    "colab": {
      "provenance": [],
      "gpuType": "T4",
      "authorship_tag": "ABX9TyPFBnMnjxDMqahqud/GO9rE",
      "include_colab_link": true
    },
    "kernelspec": {
      "name": "python3",
      "display_name": "Python 3"
    },
    "language_info": {
      "name": "python"
    },
    "accelerator": "GPU"
  },
  "cells": [
    {
      "cell_type": "markdown",
      "metadata": {
        "id": "view-in-github",
        "colab_type": "text"
      },
      "source": [
        "<a href=\"https://colab.research.google.com/github/preetamjumech/Text_classification_ML/blob/main/Text_Classification_BoW_N_Grams_AverageWord2Vec___Preetam_Saha_17_12_2023.ipynb\" target=\"_parent\"><img src=\"https://colab.research.google.com/assets/colab-badge.svg\" alt=\"Open In Colab\"/></a>"
      ]
    },
    {
      "cell_type": "code",
      "execution_count": 1,
      "metadata": {
        "id": "vp-MLJEikLuJ"
      },
      "outputs": [],
      "source": [
        "import numpy as np\n",
        "import pandas as pd"
      ]
    },
    {
      "cell_type": "code",
      "source": [
        "temp_df = pd.read_csv('IMDB Dataset.csv')\n",
        "temp_df.shape"
      ],
      "metadata": {
        "colab": {
          "base_uri": "https://localhost:8080/"
        },
        "id": "q3eoPz8DkZ7b",
        "outputId": "ef9bb05a-2262-4921-c44f-3abbfa0fdcbe"
      },
      "execution_count": 2,
      "outputs": [
        {
          "output_type": "execute_result",
          "data": {
            "text/plain": [
              "(50000, 2)"
            ]
          },
          "metadata": {},
          "execution_count": 2
        }
      ]
    },
    {
      "cell_type": "code",
      "source": [
        "df = temp_df[:10000]"
      ],
      "metadata": {
        "id": "OE5YhNHvK1Us"
      },
      "execution_count": 3,
      "outputs": []
    },
    {
      "cell_type": "code",
      "source": [
        "df.sample()"
      ],
      "metadata": {
        "colab": {
          "base_uri": "https://localhost:8080/",
          "height": 81
        },
        "id": "J_KuyVJqoVov",
        "outputId": "b5c29dd9-243a-4263-8416-8be3d6b0785d"
      },
      "execution_count": 4,
      "outputs": [
        {
          "output_type": "execute_result",
          "data": {
            "text/plain": [
              "                                                 review sentiment\n",
              "8835  I tend to love everything the great late Paul ...  negative"
            ],
            "text/html": [
              "\n",
              "  <div id=\"df-a36510c9-d60a-4557-9d15-324a03bca0cd\" class=\"colab-df-container\">\n",
              "    <div>\n",
              "<style scoped>\n",
              "    .dataframe tbody tr th:only-of-type {\n",
              "        vertical-align: middle;\n",
              "    }\n",
              "\n",
              "    .dataframe tbody tr th {\n",
              "        vertical-align: top;\n",
              "    }\n",
              "\n",
              "    .dataframe thead th {\n",
              "        text-align: right;\n",
              "    }\n",
              "</style>\n",
              "<table border=\"1\" class=\"dataframe\">\n",
              "  <thead>\n",
              "    <tr style=\"text-align: right;\">\n",
              "      <th></th>\n",
              "      <th>review</th>\n",
              "      <th>sentiment</th>\n",
              "    </tr>\n",
              "  </thead>\n",
              "  <tbody>\n",
              "    <tr>\n",
              "      <th>8835</th>\n",
              "      <td>I tend to love everything the great late Paul ...</td>\n",
              "      <td>negative</td>\n",
              "    </tr>\n",
              "  </tbody>\n",
              "</table>\n",
              "</div>\n",
              "    <div class=\"colab-df-buttons\">\n",
              "\n",
              "  <div class=\"colab-df-container\">\n",
              "    <button class=\"colab-df-convert\" onclick=\"convertToInteractive('df-a36510c9-d60a-4557-9d15-324a03bca0cd')\"\n",
              "            title=\"Convert this dataframe to an interactive table.\"\n",
              "            style=\"display:none;\">\n",
              "\n",
              "  <svg xmlns=\"http://www.w3.org/2000/svg\" height=\"24px\" viewBox=\"0 -960 960 960\">\n",
              "    <path d=\"M120-120v-720h720v720H120Zm60-500h600v-160H180v160Zm220 220h160v-160H400v160Zm0 220h160v-160H400v160ZM180-400h160v-160H180v160Zm440 0h160v-160H620v160ZM180-180h160v-160H180v160Zm440 0h160v-160H620v160Z\"/>\n",
              "  </svg>\n",
              "    </button>\n",
              "\n",
              "  <style>\n",
              "    .colab-df-container {\n",
              "      display:flex;\n",
              "      gap: 12px;\n",
              "    }\n",
              "\n",
              "    .colab-df-convert {\n",
              "      background-color: #E8F0FE;\n",
              "      border: none;\n",
              "      border-radius: 50%;\n",
              "      cursor: pointer;\n",
              "      display: none;\n",
              "      fill: #1967D2;\n",
              "      height: 32px;\n",
              "      padding: 0 0 0 0;\n",
              "      width: 32px;\n",
              "    }\n",
              "\n",
              "    .colab-df-convert:hover {\n",
              "      background-color: #E2EBFA;\n",
              "      box-shadow: 0px 1px 2px rgba(60, 64, 67, 0.3), 0px 1px 3px 1px rgba(60, 64, 67, 0.15);\n",
              "      fill: #174EA6;\n",
              "    }\n",
              "\n",
              "    .colab-df-buttons div {\n",
              "      margin-bottom: 4px;\n",
              "    }\n",
              "\n",
              "    [theme=dark] .colab-df-convert {\n",
              "      background-color: #3B4455;\n",
              "      fill: #D2E3FC;\n",
              "    }\n",
              "\n",
              "    [theme=dark] .colab-df-convert:hover {\n",
              "      background-color: #434B5C;\n",
              "      box-shadow: 0px 1px 3px 1px rgba(0, 0, 0, 0.15);\n",
              "      filter: drop-shadow(0px 1px 2px rgba(0, 0, 0, 0.3));\n",
              "      fill: #FFFFFF;\n",
              "    }\n",
              "  </style>\n",
              "\n",
              "    <script>\n",
              "      const buttonEl =\n",
              "        document.querySelector('#df-a36510c9-d60a-4557-9d15-324a03bca0cd button.colab-df-convert');\n",
              "      buttonEl.style.display =\n",
              "        google.colab.kernel.accessAllowed ? 'block' : 'none';\n",
              "\n",
              "      async function convertToInteractive(key) {\n",
              "        const element = document.querySelector('#df-a36510c9-d60a-4557-9d15-324a03bca0cd');\n",
              "        const dataTable =\n",
              "          await google.colab.kernel.invokeFunction('convertToInteractive',\n",
              "                                                    [key], {});\n",
              "        if (!dataTable) return;\n",
              "\n",
              "        const docLinkHtml = 'Like what you see? Visit the ' +\n",
              "          '<a target=\"_blank\" href=https://colab.research.google.com/notebooks/data_table.ipynb>data table notebook</a>'\n",
              "          + ' to learn more about interactive tables.';\n",
              "        element.innerHTML = '';\n",
              "        dataTable['output_type'] = 'display_data';\n",
              "        await google.colab.output.renderOutput(dataTable, element);\n",
              "        const docLink = document.createElement('div');\n",
              "        docLink.innerHTML = docLinkHtml;\n",
              "        element.appendChild(docLink);\n",
              "      }\n",
              "    </script>\n",
              "  </div>\n",
              "\n",
              "\n",
              "    </div>\n",
              "  </div>\n"
            ]
          },
          "metadata": {},
          "execution_count": 4
        }
      ]
    },
    {
      "cell_type": "code",
      "source": [
        "df.iloc[1]"
      ],
      "metadata": {
        "colab": {
          "base_uri": "https://localhost:8080/"
        },
        "id": "3w8Be-Q_obDJ",
        "outputId": "75e1cf72-52eb-4322-a47f-14c8904eeed0"
      },
      "execution_count": 5,
      "outputs": [
        {
          "output_type": "execute_result",
          "data": {
            "text/plain": [
              "review       A wonderful little production. <br /><br />The...\n",
              "sentiment                                             positive\n",
              "Name: 1, dtype: object"
            ]
          },
          "metadata": {},
          "execution_count": 5
        }
      ]
    },
    {
      "cell_type": "code",
      "source": [
        "df.duplicated().sum()"
      ],
      "metadata": {
        "colab": {
          "base_uri": "https://localhost:8080/"
        },
        "id": "tZ-Ut-M7re6-",
        "outputId": "a9dae624-de49-4922-9638-508c590b657d"
      },
      "execution_count": 6,
      "outputs": [
        {
          "output_type": "execute_result",
          "data": {
            "text/plain": [
              "17"
            ]
          },
          "metadata": {},
          "execution_count": 6
        }
      ]
    },
    {
      "cell_type": "code",
      "source": [
        "df.drop_duplicates(inplace=True)"
      ],
      "metadata": {
        "id": "r_Y75n-Zr3O8",
        "colab": {
          "base_uri": "https://localhost:8080/"
        },
        "outputId": "504f30dd-83b0-4421-9bd3-180cd239ebcc"
      },
      "execution_count": 7,
      "outputs": [
        {
          "output_type": "stream",
          "name": "stderr",
          "text": [
            "<ipython-input-7-16cdb8520be8>:1: SettingWithCopyWarning: \n",
            "A value is trying to be set on a copy of a slice from a DataFrame\n",
            "\n",
            "See the caveats in the documentation: https://pandas.pydata.org/pandas-docs/stable/user_guide/indexing.html#returning-a-view-versus-a-copy\n",
            "  df.drop_duplicates(inplace=True)\n"
          ]
        }
      ]
    },
    {
      "cell_type": "code",
      "source": [
        "df[\"sentiment\"].value_counts().plot(kind=\"bar\")"
      ],
      "metadata": {
        "colab": {
          "base_uri": "https://localhost:8080/",
          "height": 494
        },
        "id": "1F1e97pfsDXS",
        "outputId": "7c7f1c36-6d93-4a44-e1d9-6d96f1600ef8"
      },
      "execution_count": 8,
      "outputs": [
        {
          "output_type": "execute_result",
          "data": {
            "text/plain": [
              "<Axes: >"
            ]
          },
          "metadata": {},
          "execution_count": 8
        },
        {
          "output_type": "display_data",
          "data": {
            "text/plain": [
              "<Figure size 640x480 with 1 Axes>"
            ],
            "image/png": "[encoded data removed]"
          },
          "metadata": {}
        }
      ]
    },
    {
      "cell_type": "code",
      "source": [
        "df.isnull().sum()"
      ],
      "metadata": {
        "id": "vWajIrbwsJMm",
        "colab": {
          "base_uri": "https://localhost:8080/"
        },
        "outputId": "f1ece699-2d4a-4607-b566-b02222d65f3a"
      },
      "execution_count": 9,
      "outputs": [
        {
          "output_type": "execute_result",
          "data": {
            "text/plain": [
              "review       0\n",
              "sentiment    0\n",
              "dtype: int64"
            ]
          },
          "metadata": {},
          "execution_count": 9
        }
      ]
    },
    {
      "cell_type": "code",
      "source": [
        "#Removing html tags\n",
        "import re\n",
        "def remove_tags(txt):\n",
        "  clean = re.sub(re.compile('<.*?>'),\"\",txt)\n",
        "  return clean"
      ],
      "metadata": {
        "id": "QGWp2yUc8piZ"
      },
      "execution_count": 10,
      "outputs": []
    },
    {
      "cell_type": "code",
      "source": [
        "df[\"review\"] = df[\"review\"].apply(remove_tags)\n",
        "df.iloc[1]"
      ],
      "metadata": {
        "colab": {
          "base_uri": "https://localhost:8080/"
        },
        "id": "0R3dXni19Y3p",
        "outputId": "c2b9b8f5-b972-4b64-a96e-e4f9b365f701"
      },
      "execution_count": 11,
      "outputs": [
        {
          "output_type": "stream",
          "name": "stderr",
          "text": [
            "<ipython-input-11-e08f52c7eace>:1: SettingWithCopyWarning: \n",
            "A value is trying to be set on a copy of a slice from a DataFrame.\n",
            "Try using .loc[row_indexer,col_indexer] = value instead\n",
            "\n",
            "See the caveats in the documentation: https://pandas.pydata.org/pandas-docs/stable/user_guide/indexing.html#returning-a-view-versus-a-copy\n",
            "  df[\"review\"] = df[\"review\"].apply(remove_tags)\n"
          ]
        },
        {
          "output_type": "execute_result",
          "data": {
            "text/plain": [
              "review       A wonderful little production. The filming tec...\n",
              "sentiment                                             positive\n",
              "Name: 1, dtype: object"
            ]
          },
          "metadata": {},
          "execution_count": 11
        }
      ]
    },
    {
      "cell_type": "code",
      "source": [
        "df[\"review\"] = df[\"review\"].apply(lambda x: x.lower())\n",
        "df.iloc[1]"
      ],
      "metadata": {
        "colab": {
          "base_uri": "https://localhost:8080/"
        },
        "id": "2V13BuCS_Pbd",
        "outputId": "84bdce1c-7945-49d2-cbcc-43c7ec77d9d6"
      },
      "execution_count": 12,
      "outputs": [
        {
          "output_type": "stream",
          "name": "stderr",
          "text": [
            "<ipython-input-12-60b4faae7f11>:1: SettingWithCopyWarning: \n",
            "A value is trying to be set on a copy of a slice from a DataFrame.\n",
            "Try using .loc[row_indexer,col_indexer] = value instead\n",
            "\n",
            "See the caveats in the documentation: https://pandas.pydata.org/pandas-docs/stable/user_guide/indexing.html#returning-a-view-versus-a-copy\n",
            "  df[\"review\"] = df[\"review\"].apply(lambda x: x.lower())\n"
          ]
        },
        {
          "output_type": "execute_result",
          "data": {
            "text/plain": [
              "review       a wonderful little production. the filming tec...\n",
              "sentiment                                             positive\n",
              "Name: 1, dtype: object"
            ]
          },
          "metadata": {},
          "execution_count": 12
        }
      ]
    },
    {
      "cell_type": "code",
      "source": [
        "import nltk\n",
        "nltk.download(\"popular\")"
      ],
      "metadata": {
        "colab": {
          "base_uri": "https://localhost:8080/"
        },
        "id": "4J-33QM2BWgN",
        "outputId": "9eaa8fc2-fece-499f-88b1-692971c520e0"
      },
      "execution_count": 13,
      "outputs": [
        {
          "output_type": "stream",
          "name": "stderr",
          "text": [
            "[nltk_data] Downloading collection 'popular'\n",
            "[nltk_data]    | \n",
            "[nltk_data]    | Downloading package cmudict to /root/nltk_data...\n",
            "[nltk_data]    |   Package cmudict is already up-to-date!\n",
            "[nltk_data]    | Downloading package gazetteers to /root/nltk_data...\n",
            "[nltk_data]    |   Package gazetteers is already up-to-date!\n",
            "[nltk_data]    | Downloading package genesis to /root/nltk_data...\n",
            "[nltk_data]    |   Package genesis is already up-to-date!\n",
            "[nltk_data]    | Downloading package gutenberg to /root/nltk_data...\n",
            "[nltk_data]    |   Package gutenberg is already up-to-date!\n",
            "[nltk_data]    | Downloading package inaugural to /root/nltk_data...\n",
            "[nltk_data]    |   Package inaugural is already up-to-date!\n",
            "[nltk_data]    | Downloading package movie_reviews to\n",
            "[nltk_data]    |     /root/nltk_data...\n",
            "[nltk_data]    |   Package movie_reviews is already up-to-date!\n",
            "[nltk_data]    | Downloading package names to /root/nltk_data...\n",
            "[nltk_data]    |   Package names is already up-to-date!\n",
            "[nltk_data]    | Downloading package shakespeare to /root/nltk_data...\n",
            "[nltk_data]    |   Package shakespeare is already up-to-date!\n",
            "[nltk_data]    | Downloading package stopwords to /root/nltk_data...\n",
            "[nltk_data]    |   Package stopwords is already up-to-date!\n",
            "[nltk_data]    | Downloading package treebank to /root/nltk_data...\n",
            "[nltk_data]    |   Package treebank is already up-to-date!\n",
            "[nltk_data]    | Downloading package twitter_samples to\n",
            "[nltk_data]    |     /root/nltk_data...\n",
            "[nltk_data]    |   Package twitter_samples is already up-to-date!\n",
            "[nltk_data]    | Downloading package omw to /root/nltk_data...\n",
            "[nltk_data]    |   Package omw is already up-to-date!\n",
            "[nltk_data]    | Downloading package omw-1.4 to /root/nltk_data...\n",
            "[nltk_data]    |   Package omw-1.4 is already up-to-date!\n",
            "[nltk_data]    | Downloading package wordnet to /root/nltk_data...\n",
            "[nltk_data]    |   Package wordnet is already up-to-date!\n",
            "[nltk_data]    | Downloading package wordnet2021 to /root/nltk_data...\n",
            "[nltk_data]    |   Package wordnet2021 is already up-to-date!\n",
            "[nltk_data]    | Downloading package wordnet31 to /root/nltk_data...\n",
            "[nltk_data]    |   Package wordnet31 is already up-to-date!\n",
            "[nltk_data]    | Downloading package wordnet_ic to /root/nltk_data...\n",
            "[nltk_data]    |   Package wordnet_ic is already up-to-date!\n",
            "[nltk_data]    | Downloading package words to /root/nltk_data...\n",
            "[nltk_data]    |   Package words is already up-to-date!\n",
            "[nltk_data]    | Downloading package maxent_ne_chunker to\n",
            "[nltk_data]    |     /root/nltk_data...\n",
            "[nltk_data]    |   Package maxent_ne_chunker is already up-to-date!\n",
            "[nltk_data]    | Downloading package punkt to /root/nltk_data...\n",
            "[nltk_data]    |   Package punkt is already up-to-date!\n",
            "[nltk_data]    | Downloading package snowball_data to\n",
            "[nltk_data]    |     /root/nltk_data...\n",
            "[nltk_data]    |   Package snowball_data is already up-to-date!\n",
            "[nltk_data]    | Downloading package averaged_perceptron_tagger to\n",
            "[nltk_data]    |     /root/nltk_data...\n",
            "[nltk_data]    |   Package averaged_perceptron_tagger is already up-\n",
            "[nltk_data]    |       to-date!\n",
            "[nltk_data]    | \n",
            "[nltk_data]  Done downloading collection popular\n"
          ]
        },
        {
          "output_type": "execute_result",
          "data": {
            "text/plain": [
              "True"
            ]
          },
          "metadata": {},
          "execution_count": 13
        }
      ]
    },
    {
      "cell_type": "code",
      "source": [
        "from nltk.corpus import stopwords\n",
        "sw_lst = stopwords.words(\"english\")\n",
        "df[\"review\"] = df[\"review\"].apply( lambda x: [i for i in x.split() if i not in sw_lst]) .apply(lambda x: \" \".join(x))\n",
        "df.iloc[1]"
      ],
      "metadata": {
        "colab": {
          "base_uri": "https://localhost:8080/"
        },
        "id": "AxCrLzIf_eBo",
        "outputId": "01ac338f-edc7-4fc6-a5cc-30bf75bd52e1"
      },
      "execution_count": 14,
      "outputs": [
        {
          "output_type": "stream",
          "name": "stderr",
          "text": [
            "<ipython-input-14-7015f0ca1364>:3: SettingWithCopyWarning: \n",
            "A value is trying to be set on a copy of a slice from a DataFrame.\n",
            "Try using .loc[row_indexer,col_indexer] = value instead\n",
            "\n",
            "See the caveats in the documentation: https://pandas.pydata.org/pandas-docs/stable/user_guide/indexing.html#returning-a-view-versus-a-copy\n",
            "  df[\"review\"] = df[\"review\"].apply( lambda x: [i for i in x.split() if i not in sw_lst]) .apply(lambda x: \" \".join(x))\n"
          ]
        },
        {
          "output_type": "execute_result",
          "data": {
            "text/plain": [
              "review       wonderful little production. filming technique...\n",
              "sentiment                                             positive\n",
              "Name: 1, dtype: object"
            ]
          },
          "metadata": {},
          "execution_count": 14
        }
      ]
    },
    {
      "cell_type": "code",
      "source": [
        "X = df.iloc[:,0:1]\n",
        "y = df['sentiment']"
      ],
      "metadata": {
        "id": "DAXHscsfBNA_"
      },
      "execution_count": 15,
      "outputs": []
    },
    {
      "cell_type": "code",
      "source": [
        "from sklearn.preprocessing import LabelEncoder\n",
        "lbl = LabelEncoder()\n",
        "y = lbl.fit_transform(y)\n",
        "y"
      ],
      "metadata": {
        "colab": {
          "base_uri": "https://localhost:8080/"
        },
        "id": "MWijxIe8CK7t",
        "outputId": "3ccea29e-335d-4595-d2fa-edea35d64cad"
      },
      "execution_count": 16,
      "outputs": [
        {
          "output_type": "execute_result",
          "data": {
            "text/plain": [
              "array([1, 1, 1, ..., 0, 0, 1])"
            ]
          },
          "metadata": {},
          "execution_count": 16
        }
      ]
    },
    {
      "cell_type": "code",
      "source": [
        "from sklearn.model_selection import train_test_split\n",
        "X_train,X_test,y_train,y_test = train_test_split(X,y,test_size=0.2,random_state=1)"
      ],
      "metadata": {
        "id": "y95vihB8CjvD"
      },
      "execution_count": 17,
      "outputs": []
    },
    {
      "cell_type": "code",
      "source": [
        "X_train.shape"
      ],
      "metadata": {
        "colab": {
          "base_uri": "https://localhost:8080/"
        },
        "id": "20sFBZ7wJg3e",
        "outputId": "d8920b81-3a43-4c02-abc2-61ae500948cb"
      },
      "execution_count": 18,
      "outputs": [
        {
          "output_type": "execute_result",
          "data": {
            "text/plain": [
              "(7986, 1)"
            ]
          },
          "metadata": {},
          "execution_count": 18
        }
      ]
    },
    {
      "cell_type": "code",
      "source": [
        "X_train.iloc[0]"
      ],
      "metadata": {
        "colab": {
          "base_uri": "https://localhost:8080/"
        },
        "id": "KWhTenS4JjoE",
        "outputId": "47261cef-6182-486e-e7b9-460e5f6da8ca"
      },
      "execution_count": 19,
      "outputs": [
        {
          "output_type": "execute_result",
          "data": {
            "text/plain": [
              "review    i've waiting superhero movie like long time. \"...\n",
              "Name: 6713, dtype: object"
            ]
          },
          "metadata": {},
          "execution_count": 19
        }
      ]
    },
    {
      "cell_type": "markdown",
      "source": [
        "# BoW - CountVectorizer"
      ],
      "metadata": {
        "id": "RLkQP95bQpj_"
      }
    },
    {
      "cell_type": "code",
      "source": [
        "from sklearn.feature_extraction.text import CountVectorizer\n",
        "cnt = CountVectorizer()\n",
        "X_train_cnt = cnt.fit_transform(X_train[\"review\"]).toarray()"
      ],
      "metadata": {
        "id": "WKEAvy_uCpcC"
      },
      "execution_count": 20,
      "outputs": []
    },
    {
      "cell_type": "code",
      "source": [
        "X_train_cnt.shape"
      ],
      "metadata": {
        "colab": {
          "base_uri": "https://localhost:8080/"
        },
        "id": "37CikyKLFHIk",
        "outputId": "c98442dc-5243-4d8a-b015-e1e82aaceae3"
      },
      "execution_count": 21,
      "outputs": [
        {
          "output_type": "execute_result",
          "data": {
            "text/plain": [
              "(7986, 48282)"
            ]
          },
          "metadata": {},
          "execution_count": 21
        }
      ]
    },
    {
      "cell_type": "code",
      "source": [
        "X_train_cnt[0]"
      ],
      "metadata": {
        "colab": {
          "base_uri": "https://localhost:8080/"
        },
        "id": "cGlbXRt-FJ3f",
        "outputId": "4b68f27c-410c-4725-b6ba-9d13d3eb7802"
      },
      "execution_count": 22,
      "outputs": [
        {
          "output_type": "execute_result",
          "data": {
            "text/plain": [
              "array([0, 0, 0, ..., 0, 0, 0])"
            ]
          },
          "metadata": {},
          "execution_count": 22
        }
      ]
    },
    {
      "cell_type": "code",
      "source": [
        "X_test_cnt = cnt.transform(X_test[\"review\"]).toarray()"
      ],
      "metadata": {
        "id": "-mKg9cOVFpPZ"
      },
      "execution_count": 27,
      "outputs": []
    },
    {
      "cell_type": "code",
      "source": [
        "X_test_cnt.shape"
      ],
      "metadata": {
        "colab": {
          "base_uri": "https://localhost:8080/"
        },
        "id": "j3TvN6r0F7bc",
        "outputId": "08139f7b-439b-435e-83ee-21035c688c94"
      },
      "execution_count": 28,
      "outputs": [
        {
          "output_type": "execute_result",
          "data": {
            "text/plain": [
              "(1997, 48282)"
            ]
          },
          "metadata": {},
          "execution_count": 28
        }
      ]
    },
    {
      "cell_type": "markdown",
      "source": [
        "# GaussianNB"
      ],
      "metadata": {
        "id": "fYS5S8RaQepS"
      }
    },
    {
      "cell_type": "code",
      "source": [
        "from sklearn.naive_bayes import GaussianNB\n",
        "gnb = GaussianNB()\n",
        "\n",
        "gnb.fit(X_train_cnt,y_train)"
      ],
      "metadata": {
        "colab": {
          "base_uri": "https://localhost:8080/",
          "height": 75
        },
        "id": "EVJkVLh0GAhZ",
        "outputId": "31687603-cfa4-4b7e-de53-128011ef0201"
      },
      "execution_count": 25,
      "outputs": [
        {
          "output_type": "execute_result",
          "data": {
            "text/plain": [
              "GaussianNB()"
            ],
            "text/html": [
              "<style>#sk-container-id-1 {color: black;background-color: white;}#sk-container-id-1 pre{padding: 0;}#sk-container-id-1 div.sk-toggleable {background-color: white;}#sk-container-id-1 label.sk-toggleable__label {cursor: pointer;display: block;width: 100%;margin-bottom: 0;padding: 0.3em;box-sizing: border-box;text-align: center;}#sk-container-id-1 label.sk-toggleable__label-arrow:before {content: \"▸\";float: left;margin-right: 0.25em;color: #696969;}#sk-container-id-1 label.sk-toggleable__label-arrow:hover:before {color: black;}#sk-container-id-1 div.sk-estimator:hover label.sk-toggleable__label-arrow:before {color: black;}#sk-container-id-1 div.sk-toggleable__content {max-height: 0;max-width: 0;overflow: hidden;text-align: left;background-color: #f0f8ff;}#sk-container-id-1 div.sk-toggleable__content pre {margin: 0.2em;color: black;border-radius: 0.25em;background-color: #f0f8ff;}#sk-container-id-1 input.sk-toggleable__control:checked~div.sk-toggleable__content {max-height: 200px;max-width: 100%;overflow: auto;}#sk-container-id-1 input.sk-toggleable__control:checked~label.sk-toggleable__label-arrow:before {content: \"▾\";}#sk-container-id-1 div.sk-estimator input.sk-toggleable__control:checked~label.sk-toggleable__label {background-color: #d4ebff;}#sk-container-id-1 div.sk-label input.sk-toggleable__control:checked~label.sk-toggleable__label {background-color: #d4ebff;}#sk-container-id-1 input.sk-hidden--visually {border: 0;clip: rect(1px 1px 1px 1px);clip: rect(1px, 1px, 1px, 1px);height: 1px;margin: -1px;overflow: hidden;padding: 0;position: absolute;width: 1px;}#sk-container-id-1 div.sk-estimator {font-family: monospace;background-color: #f0f8ff;border: 1px dotted black;border-radius: 0.25em;box-sizing: border-box;margin-bottom: 0.5em;}#sk-container-id-1 div.sk-estimator:hover {background-color: #d4ebff;}#sk-container-id-1 div.sk-parallel-item::after {content: \"\";width: 100%;border-bottom: 1px solid gray;flex-grow: 1;}#sk-container-id-1 div.sk-label:hover label.sk-toggleable__label {background-color: #d4ebff;}#sk-container-id-1 div.sk-serial::before {content: \"\";position: absolute;border-left: 1px solid gray;box-sizing: border-box;top: 0;bottom: 0;left: 50%;z-index: 0;}#sk-container-id-1 div.sk-serial {display: flex;flex-direction: column;align-items: center;background-color: white;padding-right: 0.2em;padding-left: 0.2em;position: relative;}#sk-container-id-1 div.sk-item {position: relative;z-index: 1;}#sk-container-id-1 div.sk-parallel {display: flex;align-items: stretch;justify-content: center;background-color: white;position: relative;}#sk-container-id-1 div.sk-item::before, #sk-container-id-1 div.sk-parallel-item::before {content: \"\";position: absolute;border-left: 1px solid gray;box-sizing: border-box;top: 0;bottom: 0;left: 50%;z-index: -1;}#sk-container-id-1 div.sk-parallel-item {display: flex;flex-direction: column;z-index: 1;position: relative;background-color: white;}#sk-container-id-1 div.sk-parallel-item:first-child::after {align-self: flex-end;width: 50%;}#sk-container-id-1 div.sk-parallel-item:last-child::after {align-self: flex-start;width: 50%;}#sk-container-id-1 div.sk-parallel-item:only-child::after {width: 0;}#sk-container-id-1 div.sk-dashed-wrapped {border: 1px dashed gray;margin: 0 0.4em 0.5em 0.4em;box-sizing: border-box;padding-bottom: 0.4em;background-color: white;}#sk-container-id-1 div.sk-label label {font-family: monospace;font-weight: bold;display: inline-block;line-height: 1.2em;}#sk-container-id-1 div.sk-label-container {text-align: center;}#sk-container-id-1 div.sk-container {/* jupyter's `normalize.less` sets `[hidden] { display: none; }` but bootstrap.min.css set `[hidden] { display: none !important; }` so we also need the `!important` here to be able to override the default hidden behavior on the sphinx rendered scikit-learn.org. See: https://github.com/scikit-learn/scikit-learn/issues/21755 */display: inline-block !important;position: relative;}#sk-container-id-1 div.sk-text-repr-fallback {display: none;}</style><div id=\"sk-container-id-1\" class=\"sk-top-container\"><div class=\"sk-text-repr-fallback\"><pre>GaussianNB()</pre><b>In a Jupyter environment, please rerun this cell to show the HTML representation or trust the notebook. <br />On GitHub, the HTML representation is unable to render, please try loading this page with nbviewer.org.</b></div><div class=\"sk-container\" hidden><div class=\"sk-item\"><div class=\"sk-estimator sk-toggleable\"><input class=\"sk-toggleable__control sk-hidden--visually\" id=\"sk-estimator-id-1\" type=\"checkbox\" checked><label for=\"sk-estimator-id-1\" class=\"sk-toggleable__label sk-toggleable__label-arrow\">GaussianNB</label><div class=\"sk-toggleable__content\"><pre>GaussianNB()</pre></div></div></div></div></div>"
            ]
          },
          "metadata": {},
          "execution_count": 25
        }
      ]
    },
    {
      "cell_type": "code",
      "source": [
        "y_pred = gnb.predict(X_test_cnt)\n",
        "\n",
        "from sklearn.metrics import accuracy_score,confusion_matrix\n",
        "accuracy_score(y_test,y_pred)"
      ],
      "metadata": {
        "colab": {
          "base_uri": "https://localhost:8080/"
        },
        "id": "s4-qW5KkKPqS",
        "outputId": "d0845fd3-3a67-41fc-ddb0-0142d7d774fe"
      },
      "execution_count": 29,
      "outputs": [
        {
          "output_type": "execute_result",
          "data": {
            "text/plain": [
              "0.6324486730095142"
            ]
          },
          "metadata": {},
          "execution_count": 29
        }
      ]
    },
    {
      "cell_type": "code",
      "source": [
        "confusion_matrix(y_test,y_pred)"
      ],
      "metadata": {
        "colab": {
          "base_uri": "https://localhost:8080/"
        },
        "id": "gapmGH1nL5HA",
        "outputId": "1cc5e3b6-d43f-4ddf-f0e4-d501085ca6d6"
      },
      "execution_count": 30,
      "outputs": [
        {
          "output_type": "execute_result",
          "data": {
            "text/plain": [
              "array([[717, 235],\n",
              "       [499, 546]])"
            ]
          },
          "metadata": {},
          "execution_count": 30
        }
      ]
    },
    {
      "cell_type": "markdown",
      "source": [
        "# Random Forest"
      ],
      "metadata": {
        "id": "30ZL0HJ6QjPA"
      }
    },
    {
      "cell_type": "code",
      "source": [
        "from sklearn.ensemble import RandomForestClassifier\n",
        "rf = RandomForestClassifier(n_estimators=1000)\n",
        "\n",
        "rf.fit(X_train_cnt,y_train)\n",
        "y_pred = rf.predict(X_test_cnt)\n",
        "accuracy_score(y_test,y_pred)"
      ],
      "metadata": {
        "colab": {
          "base_uri": "https://localhost:8080/"
        },
        "id": "gcgB79hoMEAb",
        "outputId": "17e0462a-a28c-423b-9520-6eb7bad9e80d"
      },
      "execution_count": 31,
      "outputs": [
        {
          "output_type": "execute_result",
          "data": {
            "text/plain": [
              "0.8617926890335503"
            ]
          },
          "metadata": {},
          "execution_count": 31
        }
      ]
    },
    {
      "cell_type": "markdown",
      "source": [
        "# max_features"
      ],
      "metadata": {
        "id": "asluOcbsQ12o"
      }
    },
    {
      "cell_type": "code",
      "source": [
        "cnt = CountVectorizer(max_features=3000)\n",
        "\n",
        "X_train_cnt = cnt.fit_transform(X_train['review']).toarray()\n",
        "X_test_cnt = cnt.transform(X_test['review']).toarray()\n",
        "\n",
        "rf = RandomForestClassifier(n_estimators = 1000)\n",
        "\n",
        "rf.fit(X_train_cnt,y_train)\n",
        "y_pred = rf.predict(X_test_cnt)\n",
        "accuracy_score(y_test,y_pred)"
      ],
      "metadata": {
        "colab": {
          "base_uri": "https://localhost:8080/"
        },
        "id": "zonhqb8XMSlN",
        "outputId": "07450057-b18d-4078-c1f0-84892e505415"
      },
      "execution_count": 32,
      "outputs": [
        {
          "output_type": "execute_result",
          "data": {
            "text/plain": [
              "0.8487731597396094"
            ]
          },
          "metadata": {},
          "execution_count": 32
        }
      ]
    },
    {
      "cell_type": "markdown",
      "source": [
        "# n_gram - bi-gram"
      ],
      "metadata": {
        "id": "Cz4d0xTHQuP2"
      }
    },
    {
      "cell_type": "code",
      "source": [
        "cnt = CountVectorizer(ngram_range= (1,2), max_features = 3000)\n",
        "\n",
        "X_train_cnt = cnt.fit_transform(X_train[\"review\"]).toarray()\n",
        "X_test_cnt = cnt.transform(X_test[\"review\"]).toarray()\n",
        "\n",
        "rf = RandomForestClassifier(n_estimators = 1000)\n",
        "\n",
        "rf.fit(X_train_cnt,y_train)\n",
        "y_pred = rf.predict(X_test_cnt)\n",
        "accuracy_score(y_test,y_pred)"
      ],
      "metadata": {
        "colab": {
          "base_uri": "https://localhost:8080/"
        },
        "id": "26EYe02CO5oN",
        "outputId": "cfa4d54b-cec4-419b-e05d-e3d6043c5fc1"
      },
      "execution_count": 34,
      "outputs": [
        {
          "output_type": "execute_result",
          "data": {
            "text/plain": [
              "0.8477716574862293"
            ]
          },
          "metadata": {},
          "execution_count": 34
        }
      ]
    },
    {
      "cell_type": "code",
      "source": [
        "cnt = CountVectorizer(ngram_range= (1,2), max_features = 8000)\n",
        "\n",
        "X_train_cnt = cnt.fit_transform(X_train[\"review\"]).toarray()\n",
        "X_test_cnt = cnt.transform(X_test[\"review\"]).toarray()\n",
        "\n",
        "rf = RandomForestClassifier(n_estimators = 1000)\n",
        "\n",
        "rf.fit(X_train_cnt,y_train)\n",
        "y_pred = rf.predict(X_test_cnt)\n",
        "accuracy_score(y_test,y_pred)"
      ],
      "metadata": {
        "colab": {
          "base_uri": "https://localhost:8080/"
        },
        "id": "TUkZxNmtQYUk",
        "outputId": "e1b4a0b0-b3e7-486f-d93c-1a543aaf02fe"
      },
      "execution_count": 35,
      "outputs": [
        {
          "output_type": "execute_result",
          "data": {
            "text/plain": [
              "0.8532799198798198"
            ]
          },
          "metadata": {},
          "execution_count": 35
        }
      ]
    },
    {
      "cell_type": "markdown",
      "source": [
        "#n_gram - tri-gram"
      ],
      "metadata": {
        "id": "kEyR6eqfS3Lw"
      }
    },
    {
      "cell_type": "code",
      "source": [
        "cnt = CountVectorizer(ngram_range= (1,3), max_features = 8000)\n",
        "\n",
        "X_train_cnt = cnt.fit_transform(X_train[\"review\"]).toarray()\n",
        "X_test_cnt = cnt.transform(X_test[\"review\"]).toarray()\n",
        "\n",
        "rf = RandomForestClassifier(n_estimators = 1000)\n",
        "\n",
        "rf.fit(X_train_cnt,y_train)\n",
        "y_pred = rf.predict(X_test_cnt)\n",
        "accuracy_score(y_test,y_pred)"
      ],
      "metadata": {
        "colab": {
          "base_uri": "https://localhost:8080/"
        },
        "id": "G9iic09NR6Zf",
        "outputId": "b4d55973-48f2-4298-8482-358e7f719b54"
      },
      "execution_count": 36,
      "outputs": [
        {
          "output_type": "execute_result",
          "data": {
            "text/plain": [
              "0.8522784176264396"
            ]
          },
          "metadata": {},
          "execution_count": 36
        }
      ]
    },
    {
      "cell_type": "markdown",
      "source": [
        "# TF-IDF"
      ],
      "metadata": {
        "id": "jV0oJAdSUASQ"
      }
    },
    {
      "cell_type": "code",
      "source": [
        "from sklearn.feature_extraction.text import TfidfVectorizer\n",
        "tf = TfidfVectorizer()\n",
        "\n",
        "X_train_tf = tf.fit_transform(X_train[\"review\"]).toarray()\n",
        "X_test_tf = tf.transform(X_test[\"review\"]).toarray()\n",
        "\n",
        "rf = RandomForestClassifier(n_estimators = 1000)\n",
        "\n",
        "rf.fit(X_train_tf,y_train)\n",
        "y_pred = rf.predict(X_test_tf)\n",
        "\n",
        "accuracy_score(y_test,y_pred)"
      ],
      "metadata": {
        "colab": {
          "base_uri": "https://localhost:8080/"
        },
        "id": "zsrcDL-8S8p1",
        "outputId": "e09ea616-77a4-4adb-e64e-6e38ec25df31"
      },
      "execution_count": 37,
      "outputs": [
        {
          "output_type": "execute_result",
          "data": {
            "text/plain": [
              "0.8612919379068603"
            ]
          },
          "metadata": {},
          "execution_count": 37
        }
      ]
    },
    {
      "cell_type": "markdown",
      "source": [
        "# Word2Vec"
      ],
      "metadata": {
        "id": "yqCeICzdZaly"
      }
    },
    {
      "cell_type": "code",
      "source": [
        "import gensim"
      ],
      "metadata": {
        "id": "1mYP-9FRVEQx"
      },
      "execution_count": 38,
      "outputs": []
    },
    {
      "cell_type": "code",
      "source": [
        "from nltk import sent_tokenize\n",
        "from gensim.utils import simple_preprocess"
      ],
      "metadata": {
        "id": "PexqWYWWZnbW"
      },
      "execution_count": 39,
      "outputs": []
    },
    {
      "cell_type": "code",
      "source": [
        "df[\"review\"][0]"
      ],
      "metadata": {
        "colab": {
          "base_uri": "https://localhost:8080/",
          "height": 122
        },
        "id": "1m2Ky8Rwadvv",
        "outputId": "3d0ec731-f090-4b0a-9502-41169dac5868"
      },
      "execution_count": 47,
      "outputs": [
        {
          "output_type": "execute_result",
          "data": {
            "text/plain": [
              "\"one reviewers mentioned watching 1 oz episode hooked. right, exactly happened me.the first thing struck oz brutality unflinching scenes violence, set right word go. trust me, show faint hearted timid. show pulls punches regards drugs, sex violence. hardcore, classic use word.it called oz nickname given oswald maximum security state penitentary. focuses mainly emerald city, experimental section prison cells glass fronts face inwards, privacy high agenda. em city home many..aryans, muslims, gangstas, latinos, christians, italians, irish more....so scuffles, death stares, dodgy dealings shady agreements never far away.i would say main appeal show due fact goes shows dare. forget pretty pictures painted mainstream audiences, forget charm, forget romance...oz mess around. first episode ever saw struck nasty surreal, say ready it, watched more, developed taste oz, got accustomed high levels graphic violence. violence, injustice (crooked guards who'll sold nickel, inmates who'll kill order get away it, well mannered, middle class inmates turned prison bitches due lack street skills prison experience) watching oz, may become comfortable uncomfortable viewing....thats get touch darker side.\""
            ],
            "application/vnd.google.colaboratory.intrinsic+json": {
              "type": "string"
            }
          },
          "metadata": {},
          "execution_count": 47
        }
      ]
    },
    {
      "cell_type": "code",
      "source": [
        "story = []\n",
        "for i in df[\"review\"]:\n",
        "  raw = sent_tokenize(i)\n",
        "  for j in raw:\n",
        "    story.append(simple_preprocess(j))"
      ],
      "metadata": {
        "id": "S03QMfobcoDv"
      },
      "execution_count": 48,
      "outputs": []
    },
    {
      "cell_type": "code",
      "source": [
        "len(story)"
      ],
      "metadata": {
        "colab": {
          "base_uri": "https://localhost:8080/"
        },
        "id": "Jat0srlueOUa",
        "outputId": "7c49485b-a8c8-4713-90f5-abca92bb369b"
      },
      "execution_count": 53,
      "outputs": [
        {
          "output_type": "execute_result",
          "data": {
            "text/plain": [
              "105773"
            ]
          },
          "metadata": {},
          "execution_count": 53
        }
      ]
    },
    {
      "cell_type": "code",
      "source": [
        "model = gensim.models.Word2Vec(\n",
        "    window = 10,\n",
        "    min_count = 2\n",
        ")"
      ],
      "metadata": {
        "id": "V7SG3RSSc2tn"
      },
      "execution_count": 49,
      "outputs": []
    },
    {
      "cell_type": "code",
      "source": [
        "model.build_vocab(story)"
      ],
      "metadata": {
        "id": "N5qqdrZ1dd8c"
      },
      "execution_count": 50,
      "outputs": []
    },
    {
      "cell_type": "code",
      "source": [
        "model.epochs"
      ],
      "metadata": {
        "colab": {
          "base_uri": "https://localhost:8080/"
        },
        "id": "vxICQkS4eJ7b",
        "outputId": "02b3afee-76eb-471a-d0fa-f8b6be1bae98"
      },
      "execution_count": 52,
      "outputs": [
        {
          "output_type": "execute_result",
          "data": {
            "text/plain": [
              "5"
            ]
          },
          "metadata": {},
          "execution_count": 52
        }
      ]
    },
    {
      "cell_type": "code",
      "source": [
        "model.corpus_count"
      ],
      "metadata": {
        "colab": {
          "base_uri": "https://localhost:8080/"
        },
        "id": "3lkozmmdeG2x",
        "outputId": "526c3b3a-b21d-407b-8e4e-6bada3f37dfb"
      },
      "execution_count": 51,
      "outputs": [
        {
          "output_type": "execute_result",
          "data": {
            "text/plain": [
              "105773"
            ]
          },
          "metadata": {},
          "execution_count": 51
        }
      ]
    },
    {
      "cell_type": "code",
      "source": [
        "model.train(story, total_examples= model.corpus_count, epochs = model.epochs )"
      ],
      "metadata": {
        "colab": {
          "base_uri": "https://localhost:8080/"
        },
        "id": "zKF9MwTSdkOW",
        "outputId": "56ee5282-1cd2-4f0c-fb44-f0061007a022"
      },
      "execution_count": 54,
      "outputs": [
        {
          "output_type": "execute_result",
          "data": {
            "text/plain": [
              "(5876376, 6212140)"
            ]
          },
          "metadata": {},
          "execution_count": 54
        }
      ]
    },
    {
      "cell_type": "code",
      "source": [
        "len(model.wv.index_to_key)"
      ],
      "metadata": {
        "colab": {
          "base_uri": "https://localhost:8080/"
        },
        "id": "Pa4uPjrweTqv",
        "outputId": "e34c2665-e934-4566-ed1e-d153e1aa4886"
      },
      "execution_count": 56,
      "outputs": [
        {
          "output_type": "execute_result",
          "data": {
            "text/plain": [
              "31845"
            ]
          },
          "metadata": {},
          "execution_count": 56
        }
      ]
    },
    {
      "cell_type": "code",
      "source": [
        "(model.wv.index_to_key)[:10]"
      ],
      "metadata": {
        "colab": {
          "base_uri": "https://localhost:8080/"
        },
        "id": "6gkjH4Gver6c",
        "outputId": "448055c4-a8ce-4737-80dc-a42af5416217"
      },
      "execution_count": 57,
      "outputs": [
        {
          "output_type": "execute_result",
          "data": {
            "text/plain": [
              "['movie', 'film', 'one', 'like', 'good', 'it', 'the', 'would', 'time', 'even']"
            ]
          },
          "metadata": {},
          "execution_count": 57
        }
      ]
    },
    {
      "cell_type": "code",
      "source": [
        "def avg_w2v(txt):\n",
        "  x = [word for word in txt.split() if word in model.wv.index_to_key]\n",
        "  print(x)\n",
        "  print(len(x))\n",
        "  print(model.wv[x])\n",
        "  print(model.wv[x].shape)\n",
        "  return np.mean(model.wv[x], axis = 0)"
      ],
      "metadata": {
        "id": "c7v_svwMhNB6"
      },
      "execution_count": 72,
      "outputs": []
    },
    {
      "cell_type": "code",
      "source": [
        "avg_w2v(df['review'][0])"
      ],
      "metadata": {
        "colab": {
          "base_uri": "https://localhost:8080/"
        },
        "id": "kt3ppY_bhjOC",
        "outputId": "e0b50523-6e09-4c54-ea11-abee6a1be7b7"
      },
      "execution_count": 73,
      "outputs": [
        {
          "output_type": "stream",
          "name": "stdout",
          "text": [
            "['one', 'reviewers', 'mentioned', 'watching', 'oz', 'episode', 'exactly', 'happened', 'first', 'thing', 'struck', 'oz', 'brutality', 'unflinching', 'scenes', 'set', 'right', 'word', 'trust', 'show', 'faint', 'hearted', 'show', 'pulls', 'punches', 'regards', 'sex', 'classic', 'use', 'called', 'oz', 'nickname', 'given', 'oswald', 'maximum', 'security', 'state', 'focuses', 'mainly', 'emerald', 'experimental', 'section', 'prison', 'cells', 'glass', 'fronts', 'face', 'privacy', 'high', 'em', 'city', 'home', 'irish', 'death', 'dodgy', 'dealings', 'shady', 'agreements', 'never', 'far', 'would', 'say', 'main', 'appeal', 'show', 'due', 'fact', 'goes', 'shows', 'forget', 'pretty', 'pictures', 'painted', 'mainstream', 'forget', 'forget', 'mess', 'first', 'episode', 'ever', 'saw', 'struck', 'nasty', 'say', 'ready', 'watched', 'developed', 'taste', 'got', 'accustomed', 'high', 'levels', 'graphic', 'injustice', 'guards', 'sold', 'inmates', 'kill', 'order', 'get', 'away', 'well', 'middle', 'class', 'inmates', 'turned', 'prison', 'bitches', 'due', 'lack', 'street', 'skills', 'prison', 'watching', 'may', 'become', 'comfortable', 'uncomfortable', 'get', 'touch', 'darker']\n",
            "121\n",
            "[[ 0.1030537   0.63280874  0.28231624 ...  0.24349348  0.995107\n",
            "   0.04292852]\n",
            " [ 0.1861518   0.07473034 -0.0272699  ... -0.06412465 -0.440944\n",
            "  -0.35598785]\n",
            " [ 0.24425215  0.16802426  0.42728472 ...  0.10279634 -0.43752488\n",
            "  -0.5715905 ]\n",
            " ...\n",
            " [ 0.02591842  1.8290186  -0.02219405 ...  0.5264292   1.2467291\n",
            "   0.25428912]\n",
            " [-0.32718673  0.16770999  0.0776508  ... -0.71868426  0.03324078\n",
            "   0.26948497]\n",
            " [-0.16197214  0.18666969  0.04053837 ... -0.25852534 -0.06751041\n",
            "   0.08477608]]\n",
            "(121, 100)\n"
          ]
        },
        {
          "output_type": "execute_result",
          "data": {
            "text/plain": [
              "array([-1.98522583e-01,  5.25319040e-01,  1.86681509e-01,  2.47284815e-01,\n",
              "       -7.41565898e-02, -6.23423755e-01,  1.73934191e-01,  9.65156972e-01,\n",
              "       -4.28661793e-01, -2.92069048e-01, -3.67207140e-01, -4.29802030e-01,\n",
              "        4.77191284e-02,  1.63949102e-01,  2.24433884e-01, -2.02279717e-01,\n",
              "        8.77687708e-03, -3.33109766e-01, -6.82379901e-02, -6.08679414e-01,\n",
              "        1.38909314e-02,  2.88880646e-01,  1.30701393e-01, -2.64733046e-01,\n",
              "       -3.51981997e-01, -3.52487504e-03, -3.14027876e-01,  1.10802138e-02,\n",
              "       -3.55562001e-01,  8.10509473e-02,  3.61298859e-01, -1.66979898e-03,\n",
              "        1.46567807e-01, -2.95832813e-01, -1.51795760e-01,  4.56140548e-01,\n",
              "        7.69517273e-02, -3.47600967e-01, -2.30004683e-01, -6.95306242e-01,\n",
              "        1.77703097e-01, -2.12142512e-01,  3.83530818e-02, -4.97946292e-02,\n",
              "        5.09702146e-01, -1.84692219e-01, -1.99469775e-01, -5.05745586e-04,\n",
              "        9.35981274e-02,  3.03859591e-01,  3.30342092e-02, -3.66531312e-01,\n",
              "       -4.09381390e-01, -1.14909574e-01, -1.23473950e-01,  1.60232723e-01,\n",
              "        2.00719938e-01,  1.45318329e-01, -2.32473284e-01,  4.47330959e-02,\n",
              "        8.68346021e-02,  7.24683180e-02,  1.58346146e-02, -6.25223666e-02,\n",
              "       -4.00951773e-01,  2.06995845e-01,  5.82899116e-02,  1.77515522e-01,\n",
              "       -3.85725081e-01,  3.10107738e-01, -2.21985251e-01,  1.74430877e-01,\n",
              "        5.78381121e-01, -9.65844020e-02,  4.16411132e-01,  7.33787343e-02,\n",
              "        3.56226563e-02, -5.80464154e-02, -5.00593424e-01,  1.47697151e-01,\n",
              "       -3.22923213e-01,  9.26300064e-02, -4.06420678e-01,  4.25617963e-01,\n",
              "       -1.53649464e-01, -3.62041518e-02, -9.74121541e-02,  2.71361917e-01,\n",
              "        2.96455681e-01,  6.36640042e-02,  2.93189347e-01,  2.59505272e-01,\n",
              "        3.31289396e-02,  1.01926170e-01,  6.87919915e-01,  3.09508383e-01,\n",
              "        2.40894511e-01, -1.45297021e-01, -5.15803397e-02, -1.11760080e-01],\n",
              "      dtype=float32)"
            ]
          },
          "metadata": {},
          "execution_count": 73
        }
      ]
    },
    {
      "cell_type": "code",
      "source": [
        "avg_w2v(df['review'][1])"
      ],
      "metadata": {
        "colab": {
          "base_uri": "https://localhost:8080/"
        },
        "id": "yNpXqSKyhlfV",
        "outputId": "ea65a1a9-2ed4-4a50-f010-9ad61fbf1e51"
      },
      "execution_count": 74,
      "outputs": [
        {
          "output_type": "stream",
          "name": "stdout",
          "text": [
            "['wonderful', 'little', 'filming', 'technique', 'fashion', 'gives', 'sometimes', 'sense', 'realism', 'entire', 'actors', 'extremely', 'well', 'michael', 'sheen', 'got', 'voices', 'pat', 'truly', 'see', 'seamless', 'editing', 'guided', 'references', 'diary', 'well', 'worth', 'watching', 'terrificly', 'written', 'performed', 'masterful', 'production', 'one', 'great', 'comedy', 'realism', 'really', 'comes', 'home', 'little', 'fantasy', 'guard', 'rather', 'use', 'traditional', 'techniques', 'remains', 'solid', 'plays', 'knowledge', 'particularly', 'scenes', 'concerning', 'orton', 'halliwell', 'sets', 'flat', 'decorating', 'every', 'terribly', 'well']\n",
            "62\n",
            "[[ 0.03886174  0.14958645  0.2134768  ... -0.35672945 -0.21654475\n",
            "   0.07245697]\n",
            " [-0.2830121   0.74486697 -0.48218483 ... -0.3138511   0.08405204\n",
            "  -0.29274458]\n",
            " [-0.09767415  0.66588193  0.174513   ... -0.10661712 -0.1983517\n",
            "   0.14889523]\n",
            " ...\n",
            " [ 0.3252976   2.080534    0.27120912 ...  0.31499168  0.4959253\n",
            "  -1.4223765 ]\n",
            " [-0.06153648  0.00725566  0.07064126 ... -0.2887383  -0.01436034\n",
            "   0.06317014]\n",
            " [-0.8202472   1.27154    -0.37435418 ... -0.45518538 -1.5138011\n",
            "   0.8270489 ]]\n",
            "(62, 100)\n"
          ]
        },
        {
          "output_type": "execute_result",
          "data": {
            "text/plain": [
              "array([-0.09144305,  0.43072575,  0.09658712, -0.10865118, -0.04733777,\n",
              "       -0.4702335 , -0.083499  ,  0.68522775, -0.2934998 , -0.24918643,\n",
              "       -0.48527867, -0.39469028, -0.13857539,  0.24891432,  0.25751325,\n",
              "       -0.09319912,  0.14724767, -0.46400848, -0.10126542, -0.8345959 ,\n",
              "        0.2033439 ,  0.2476466 ,  0.2179511 ,  0.01059017, -0.01528604,\n",
              "        0.3197443 , -0.16601892, -0.26896247, -0.39945456,  0.06443421,\n",
              "        0.6405784 ,  0.11203278,  0.20019998, -0.383418  , -0.14403333,\n",
              "        0.49924925,  0.06963219, -0.2637523 , -0.43688682, -0.78588927,\n",
              "        0.26382858, -0.56553423, -0.2370626 ,  0.16306669,  0.47858912,\n",
              "       -0.2930339 , -0.36868286, -0.04733688,  0.09016732,  0.27825937,\n",
              "        0.19486779, -0.43521723, -0.39823204,  0.03230788, -0.35424247,\n",
              "        0.07415486,  0.10304911, -0.23951855, -0.61774457, -0.01666393,\n",
              "       -0.0951151 ,  0.06894047, -0.23405384,  0.22951935, -0.4255108 ,\n",
              "        0.49671057,  0.00670616,  0.14925957, -0.3185828 ,  0.39525107,\n",
              "       -0.11486109,  0.3503945 ,  0.38947314, -0.04034552,  0.58733404,\n",
              "        0.2930479 ,  0.20409128,  0.03881689, -0.07404447, -0.14244358,\n",
              "       -0.27517337, -0.29393706, -0.25168204,  0.50915986, -0.05937386,\n",
              "        0.07534926, -0.05222253,  0.5318836 ,  0.4150905 ,  0.01638755,\n",
              "        0.5882432 ,  0.40817901,  0.4335383 , -0.06600171,  0.66268647,\n",
              "        0.36548287,  0.5009073 , -0.27536967, -0.20328929,  0.08449306],\n",
              "      dtype=float32)"
            ]
          },
          "metadata": {},
          "execution_count": 74
        }
      ]
    },
    {
      "cell_type": "code",
      "source": [
        "from tqdm import tqdm"
      ],
      "metadata": {
        "id": "Zk2dGZ97lB2K"
      },
      "execution_count": 79,
      "outputs": []
    },
    {
      "cell_type": "code",
      "source": [
        "lst = []\n",
        "for doc in tqdm(df[\"review\"]):\n",
        "  lst.append(avg_w2v(doc))\n",
        "lst = np.array(lst)\n",
        "print(lst.shape)\n",
        "print(lst[0])"
      ],
      "metadata": {
        "id": "23VLuWCRlrVl"
      },
      "execution_count": null,
      "outputs": []
    },
    {
      "cell_type": "code",
      "source": [
        "print(lst.shape)\n",
        "print(lst[0])"
      ],
      "metadata": {
        "colab": {
          "base_uri": "https://localhost:8080/"
        },
        "id": "J3ao9U4MmdZC",
        "outputId": "f2b22d3b-03ac-4fd4-d54b-ed448e607980"
      },
      "execution_count": 82,
      "outputs": [
        {
          "output_type": "stream",
          "name": "stdout",
          "text": [
            "(9983, 100)\n",
            "[-1.98522583e-01  5.25319040e-01  1.86681509e-01  2.47284815e-01\n",
            " -7.41565898e-02 -6.23423755e-01  1.73934191e-01  9.65156972e-01\n",
            " -4.28661793e-01 -2.92069048e-01 -3.67207140e-01 -4.29802030e-01\n",
            "  4.77191284e-02  1.63949102e-01  2.24433884e-01 -2.02279717e-01\n",
            "  8.77687708e-03 -3.33109766e-01 -6.82379901e-02 -6.08679414e-01\n",
            "  1.38909314e-02  2.88880646e-01  1.30701393e-01 -2.64733046e-01\n",
            " -3.51981997e-01 -3.52487504e-03 -3.14027876e-01  1.10802138e-02\n",
            " -3.55562001e-01  8.10509473e-02  3.61298859e-01 -1.66979898e-03\n",
            "  1.46567807e-01 -2.95832813e-01 -1.51795760e-01  4.56140548e-01\n",
            "  7.69517273e-02 -3.47600967e-01 -2.30004683e-01 -6.95306242e-01\n",
            "  1.77703097e-01 -2.12142512e-01  3.83530818e-02 -4.97946292e-02\n",
            "  5.09702146e-01 -1.84692219e-01 -1.99469775e-01 -5.05745586e-04\n",
            "  9.35981274e-02  3.03859591e-01  3.30342092e-02 -3.66531312e-01\n",
            " -4.09381390e-01 -1.14909574e-01 -1.23473950e-01  1.60232723e-01\n",
            "  2.00719938e-01  1.45318329e-01 -2.32473284e-01  4.47330959e-02\n",
            "  8.68346021e-02  7.24683180e-02  1.58346146e-02 -6.25223666e-02\n",
            " -4.00951773e-01  2.06995845e-01  5.82899116e-02  1.77515522e-01\n",
            " -3.85725081e-01  3.10107738e-01 -2.21985251e-01  1.74430877e-01\n",
            "  5.78381121e-01 -9.65844020e-02  4.16411132e-01  7.33787343e-02\n",
            "  3.56226563e-02 -5.80464154e-02 -5.00593424e-01  1.47697151e-01\n",
            " -3.22923213e-01  9.26300064e-02 -4.06420678e-01  4.25617963e-01\n",
            " -1.53649464e-01 -3.62041518e-02 -9.74121541e-02  2.71361917e-01\n",
            "  2.96455681e-01  6.36640042e-02  2.93189347e-01  2.59505272e-01\n",
            "  3.31289396e-02  1.01926170e-01  6.87919915e-01  3.09508383e-01\n",
            "  2.40894511e-01 -1.45297021e-01 -5.15803397e-02 -1.11760080e-01]\n"
          ]
        }
      ]
    },
    {
      "cell_type": "code",
      "source": [
        "X = lst"
      ],
      "metadata": {
        "id": "j1pUc1X3oSpw"
      },
      "execution_count": 83,
      "outputs": []
    },
    {
      "cell_type": "code",
      "source": [
        "from sklearn.preprocessing import LabelEncoder\n",
        "encoder = LabelEncoder()\n",
        "\n",
        "y = encoder.fit_transform(df['sentiment'])"
      ],
      "metadata": {
        "id": "3c9l869KoNKe"
      },
      "execution_count": 84,
      "outputs": []
    },
    {
      "cell_type": "code",
      "source": [
        "from sklearn.model_selection import train_test_split\n",
        "X_train,X_test,y_train,y_test = train_test_split(X,y,test_size=0.2,random_state=1)"
      ],
      "metadata": {
        "id": "KQXYBNA3oUlf"
      },
      "execution_count": 85,
      "outputs": []
    },
    {
      "cell_type": "code",
      "source": [
        "from sklearn.ensemble import RandomForestClassifier\n",
        "from sklearn.metrics import accuracy_score"
      ],
      "metadata": {
        "id": "9mHivNBCoYMX"
      },
      "execution_count": 86,
      "outputs": []
    },
    {
      "cell_type": "code",
      "source": [
        "rf = RandomForestClassifier(n_estimators=1000)\n",
        "rf.fit(X_train,y_train)\n",
        "y_pred = rf.predict(X_test)\n",
        "accuracy_score(y_test,y_pred)"
      ],
      "metadata": {
        "colab": {
          "base_uri": "https://localhost:8080/"
        },
        "id": "bxg_xIOgoduA",
        "outputId": "f5f2cb24-4985-4da9-91b0-9aa66bd48a77"
      },
      "execution_count": 89,
      "outputs": [
        {
          "output_type": "execute_result",
          "data": {
            "text/plain": [
              "0.7736604907361042"
            ]
          },
          "metadata": {},
          "execution_count": 89
        }
      ]
    },
    {
      "cell_type": "code",
      "source": [],
      "metadata": {
        "id": "ER_yeD_rqhku"
      },
      "execution_count": null,
      "outputs": []
    }
  ]
}